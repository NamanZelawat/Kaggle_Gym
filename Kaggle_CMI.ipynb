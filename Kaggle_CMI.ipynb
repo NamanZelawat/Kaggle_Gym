{
 "cells": [
  {
   "cell_type": "markdown",
   "id": "2f0e9279-353d-4de5-a8bc-5c66d7019539",
   "metadata": {},
   "source": [
    "Competition link https://www.kaggle.com/competitions/cmi-detect-behavior-with-sensor-data/data"
   ]
  },
  {
   "cell_type": "code",
   "execution_count": 1,
   "id": "f475932d-2214-43ce-a125-5ba737f4fc99",
   "metadata": {},
   "outputs": [
    {
     "data": {
      "text/plain": [
       "'2.7.1+cu126'"
      ]
     },
     "execution_count": 1,
     "metadata": {},
     "output_type": "execute_result"
    }
   ],
   "source": [
    "import torch\n",
    "\n",
    "torch.__version__"
   ]
  }
 ],
 "metadata": {
  "kernelspec": {
   "display_name": "Python 3 (ipykernel)",
   "language": "python",
   "name": "python3"
  },
  "language_info": {
   "codemirror_mode": {
    "name": "ipython",
    "version": 3
   },
   "file_extension": ".py",
   "mimetype": "text/x-python",
   "name": "python",
   "nbconvert_exporter": "python",
   "pygments_lexer": "ipython3",
   "version": "3.10.11"
  }
 },
 "nbformat": 4,
 "nbformat_minor": 5
}
