{
 "cells": [
  {
   "cell_type": "markdown",
   "id": "2f0e9279-353d-4de5-a8bc-5c66d7019539",
   "metadata": {},
   "source": [
    "Competition link https://www.kaggle.com/competitions/cmi-detect-behavior-with-sensor-data/data"
   ]
  },
  {
   "cell_type": "code",
   "execution_count": 1,
   "id": "f475932d-2214-43ce-a125-5ba737f4fc99",
   "metadata": {},
   "outputs": [
    {
     "data": {
      "text/plain": [
       "'2.7.1+cu126'"
      ]
     },
     "execution_count": 1,
     "metadata": {},
     "output_type": "execute_result"
    }
   ],
   "source": [
    "import torch\n",
    "import pandas as pd\n",
    "\n",
    "torch.__version__"
   ]
  },
  {
   "cell_type": "code",
   "execution_count": 2,
   "id": "4d324fef-9a57-4c31-a9d8-6c69cdd0b962",
   "metadata": {},
   "outputs": [
    {
     "data": {
      "text/plain": [
       "'cuda'"
      ]
     },
     "execution_count": 2,
     "metadata": {},
     "output_type": "execute_result"
    }
   ],
   "source": [
    "# Setup device agnostic code\n",
    "device = \"cuda\" if torch.cuda.is_available() else \"cpu\"\n",
    "device"
   ]
  },
  {
   "cell_type": "code",
   "execution_count": 8,
   "id": "4bf990eb-d25a-49fd-ba22-15ec2580cd90",
   "metadata": {},
   "outputs": [
    {
     "data": {
      "text/html": [
       "<div>\n",
       "<style scoped>\n",
       "    .dataframe tbody tr th:only-of-type {\n",
       "        vertical-align: middle;\n",
       "    }\n",
       "\n",
       "    .dataframe tbody tr th {\n",
       "        vertical-align: top;\n",
       "    }\n",
       "\n",
       "    .dataframe thead th {\n",
       "        text-align: right;\n",
       "    }\n",
       "</style>\n",
       "<table border=\"1\" class=\"dataframe\">\n",
       "  <thead>\n",
       "    <tr style=\"text-align: right;\">\n",
       "      <th></th>\n",
       "      <th>row_id</th>\n",
       "      <th>sequence_type</th>\n",
       "      <th>sequence_id</th>\n",
       "      <th>sequence_counter</th>\n",
       "      <th>subject</th>\n",
       "      <th>orientation</th>\n",
       "      <th>behavior</th>\n",
       "      <th>phase</th>\n",
       "      <th>gesture</th>\n",
       "      <th>acc_x</th>\n",
       "      <th>...</th>\n",
       "      <th>tof_5_v54</th>\n",
       "      <th>tof_5_v55</th>\n",
       "      <th>tof_5_v56</th>\n",
       "      <th>tof_5_v57</th>\n",
       "      <th>tof_5_v58</th>\n",
       "      <th>tof_5_v59</th>\n",
       "      <th>tof_5_v60</th>\n",
       "      <th>tof_5_v61</th>\n",
       "      <th>tof_5_v62</th>\n",
       "      <th>tof_5_v63</th>\n",
       "    </tr>\n",
       "  </thead>\n",
       "  <tbody>\n",
       "    <tr>\n",
       "      <th>0</th>\n",
       "      <td>SEQ_000007_000000</td>\n",
       "      <td>Target</td>\n",
       "      <td>SEQ_000007</td>\n",
       "      <td>0</td>\n",
       "      <td>SUBJ_059520</td>\n",
       "      <td>Seated Lean Non Dom - FACE DOWN</td>\n",
       "      <td>Relaxes and moves hand to target location</td>\n",
       "      <td>Transition</td>\n",
       "      <td>Cheek - pinch skin</td>\n",
       "      <td>6.683594</td>\n",
       "      <td>...</td>\n",
       "      <td>-1.0</td>\n",
       "      <td>-1.0</td>\n",
       "      <td>-1.0</td>\n",
       "      <td>-1.0</td>\n",
       "      <td>-1.0</td>\n",
       "      <td>-1.0</td>\n",
       "      <td>-1.0</td>\n",
       "      <td>-1.0</td>\n",
       "      <td>-1.0</td>\n",
       "      <td>-1.0</td>\n",
       "    </tr>\n",
       "    <tr>\n",
       "      <th>1</th>\n",
       "      <td>SEQ_000007_000001</td>\n",
       "      <td>Target</td>\n",
       "      <td>SEQ_000007</td>\n",
       "      <td>1</td>\n",
       "      <td>SUBJ_059520</td>\n",
       "      <td>Seated Lean Non Dom - FACE DOWN</td>\n",
       "      <td>Relaxes and moves hand to target location</td>\n",
       "      <td>Transition</td>\n",
       "      <td>Cheek - pinch skin</td>\n",
       "      <td>6.949219</td>\n",
       "      <td>...</td>\n",
       "      <td>-1.0</td>\n",
       "      <td>-1.0</td>\n",
       "      <td>-1.0</td>\n",
       "      <td>-1.0</td>\n",
       "      <td>-1.0</td>\n",
       "      <td>-1.0</td>\n",
       "      <td>-1.0</td>\n",
       "      <td>-1.0</td>\n",
       "      <td>-1.0</td>\n",
       "      <td>-1.0</td>\n",
       "    </tr>\n",
       "    <tr>\n",
       "      <th>2</th>\n",
       "      <td>SEQ_000007_000002</td>\n",
       "      <td>Target</td>\n",
       "      <td>SEQ_000007</td>\n",
       "      <td>2</td>\n",
       "      <td>SUBJ_059520</td>\n",
       "      <td>Seated Lean Non Dom - FACE DOWN</td>\n",
       "      <td>Relaxes and moves hand to target location</td>\n",
       "      <td>Transition</td>\n",
       "      <td>Cheek - pinch skin</td>\n",
       "      <td>5.722656</td>\n",
       "      <td>...</td>\n",
       "      <td>-1.0</td>\n",
       "      <td>-1.0</td>\n",
       "      <td>112.0</td>\n",
       "      <td>119.0</td>\n",
       "      <td>-1.0</td>\n",
       "      <td>-1.0</td>\n",
       "      <td>-1.0</td>\n",
       "      <td>-1.0</td>\n",
       "      <td>-1.0</td>\n",
       "      <td>-1.0</td>\n",
       "    </tr>\n",
       "    <tr>\n",
       "      <th>3</th>\n",
       "      <td>SEQ_000007_000003</td>\n",
       "      <td>Target</td>\n",
       "      <td>SEQ_000007</td>\n",
       "      <td>3</td>\n",
       "      <td>SUBJ_059520</td>\n",
       "      <td>Seated Lean Non Dom - FACE DOWN</td>\n",
       "      <td>Relaxes and moves hand to target location</td>\n",
       "      <td>Transition</td>\n",
       "      <td>Cheek - pinch skin</td>\n",
       "      <td>6.601562</td>\n",
       "      <td>...</td>\n",
       "      <td>-1.0</td>\n",
       "      <td>-1.0</td>\n",
       "      <td>101.0</td>\n",
       "      <td>111.0</td>\n",
       "      <td>-1.0</td>\n",
       "      <td>-1.0</td>\n",
       "      <td>-1.0</td>\n",
       "      <td>-1.0</td>\n",
       "      <td>-1.0</td>\n",
       "      <td>-1.0</td>\n",
       "    </tr>\n",
       "    <tr>\n",
       "      <th>4</th>\n",
       "      <td>SEQ_000007_000004</td>\n",
       "      <td>Target</td>\n",
       "      <td>SEQ_000007</td>\n",
       "      <td>4</td>\n",
       "      <td>SUBJ_059520</td>\n",
       "      <td>Seated Lean Non Dom - FACE DOWN</td>\n",
       "      <td>Relaxes and moves hand to target location</td>\n",
       "      <td>Transition</td>\n",
       "      <td>Cheek - pinch skin</td>\n",
       "      <td>5.566406</td>\n",
       "      <td>...</td>\n",
       "      <td>-1.0</td>\n",
       "      <td>-1.0</td>\n",
       "      <td>101.0</td>\n",
       "      <td>109.0</td>\n",
       "      <td>125.0</td>\n",
       "      <td>-1.0</td>\n",
       "      <td>-1.0</td>\n",
       "      <td>-1.0</td>\n",
       "      <td>-1.0</td>\n",
       "      <td>-1.0</td>\n",
       "    </tr>\n",
       "  </tbody>\n",
       "</table>\n",
       "<p>5 rows × 341 columns</p>\n",
       "</div>"
      ],
      "text/plain": [
       "              row_id sequence_type sequence_id  sequence_counter      subject  \\\n",
       "0  SEQ_000007_000000        Target  SEQ_000007                 0  SUBJ_059520   \n",
       "1  SEQ_000007_000001        Target  SEQ_000007                 1  SUBJ_059520   \n",
       "2  SEQ_000007_000002        Target  SEQ_000007                 2  SUBJ_059520   \n",
       "3  SEQ_000007_000003        Target  SEQ_000007                 3  SUBJ_059520   \n",
       "4  SEQ_000007_000004        Target  SEQ_000007                 4  SUBJ_059520   \n",
       "\n",
       "                       orientation                                   behavior  \\\n",
       "0  Seated Lean Non Dom - FACE DOWN  Relaxes and moves hand to target location   \n",
       "1  Seated Lean Non Dom - FACE DOWN  Relaxes and moves hand to target location   \n",
       "2  Seated Lean Non Dom - FACE DOWN  Relaxes and moves hand to target location   \n",
       "3  Seated Lean Non Dom - FACE DOWN  Relaxes and moves hand to target location   \n",
       "4  Seated Lean Non Dom - FACE DOWN  Relaxes and moves hand to target location   \n",
       "\n",
       "        phase             gesture     acc_x  ...  tof_5_v54  tof_5_v55  \\\n",
       "0  Transition  Cheek - pinch skin  6.683594  ...       -1.0       -1.0   \n",
       "1  Transition  Cheek - pinch skin  6.949219  ...       -1.0       -1.0   \n",
       "2  Transition  Cheek - pinch skin  5.722656  ...       -1.0       -1.0   \n",
       "3  Transition  Cheek - pinch skin  6.601562  ...       -1.0       -1.0   \n",
       "4  Transition  Cheek - pinch skin  5.566406  ...       -1.0       -1.0   \n",
       "\n",
       "   tof_5_v56  tof_5_v57  tof_5_v58  tof_5_v59  tof_5_v60  tof_5_v61  \\\n",
       "0       -1.0       -1.0       -1.0       -1.0       -1.0       -1.0   \n",
       "1       -1.0       -1.0       -1.0       -1.0       -1.0       -1.0   \n",
       "2      112.0      119.0       -1.0       -1.0       -1.0       -1.0   \n",
       "3      101.0      111.0       -1.0       -1.0       -1.0       -1.0   \n",
       "4      101.0      109.0      125.0       -1.0       -1.0       -1.0   \n",
       "\n",
       "   tof_5_v62  tof_5_v63  \n",
       "0       -1.0       -1.0  \n",
       "1       -1.0       -1.0  \n",
       "2       -1.0       -1.0  \n",
       "3       -1.0       -1.0  \n",
       "4       -1.0       -1.0  \n",
       "\n",
       "[5 rows x 341 columns]"
      ]
     },
     "execution_count": 8,
     "metadata": {},
     "output_type": "execute_result"
    }
   ],
   "source": [
    "X_train = pd.read_csv(\"data/cmi-detect-behavior-with-sensor-data/train.csv\")\n",
    "X_train.head()"
   ]
  },
  {
   "cell_type": "code",
   "execution_count": 9,
   "id": "731c135a-7942-48f0-89e8-8e8d3ef3f181",
   "metadata": {},
   "outputs": [
    {
     "name": "stdout",
     "output_type": "stream",
     "text": [
      "<class 'pandas.core.frame.DataFrame'>\n",
      "RangeIndex: 574945 entries, 0 to 574944\n",
      "Columns: 341 entries, row_id to tof_5_v63\n",
      "dtypes: float64(332), int64(1), object(8)\n",
      "memory usage: 1.5+ GB\n"
     ]
    }
   ],
   "source": [
    "X_train.info()"
   ]
  },
  {
   "cell_type": "code",
   "execution_count": 10,
   "id": "1f31f0d3-94f2-49fa-8ee2-065abafad118",
   "metadata": {},
   "outputs": [
    {
     "data": {
      "text/plain": [
       "Index(['row_id', 'sequence_type', 'sequence_id', 'sequence_counter', 'subject',\n",
       "       'orientation', 'behavior', 'phase', 'gesture', 'acc_x',\n",
       "       ...\n",
       "       'tof_5_v54', 'tof_5_v55', 'tof_5_v56', 'tof_5_v57', 'tof_5_v58',\n",
       "       'tof_5_v59', 'tof_5_v60', 'tof_5_v61', 'tof_5_v62', 'tof_5_v63'],\n",
       "      dtype='object', length=341)"
      ]
     },
     "execution_count": 10,
     "metadata": {},
     "output_type": "execute_result"
    }
   ],
   "source": [
    "X_train.columns"
   ]
  },
  {
   "cell_type": "code",
   "execution_count": 11,
   "id": "0c46f9e1-af83-4690-9130-91b7d49ce05d",
   "metadata": {},
   "outputs": [],
   "source": [
    "acc_cols = []\n",
    "rot_cols = []\n",
    "thm_cols = []\n",
    "tof_cols = []\n",
    "for i in X_train.columns:\n",
    "    if i[:3] == \"acc\":\n",
    "        acc_cols.append(i)\n",
    "    elif i[:3] == \"rot\":\n",
    "        rot_cols.append(i)\n",
    "    elif i[:3] == \"thm\":\n",
    "        thm_cols.append(i)\n",
    "    elif i[:3] == \"tof\":\n",
    "        tof_cols.append(i)"
   ]
  },
  {
   "cell_type": "code",
   "execution_count": 14,
   "id": "39f61372-90c6-4247-bcb2-fe9b0ede826e",
   "metadata": {},
   "outputs": [
    {
     "data": {
      "image/png": "[encoded data removed]",
      "text/plain": [
       "<Figure size 2000x1500 with 4 Axes>"
      ]
     },
     "metadata": {},
     "output_type": "display_data"
    }
   ],
   "source": [
    "%matplotlib inline\n",
    "import matplotlib.pyplot as plt\n",
    "X_train[acc_cols].hist(bins=50, figsize=(20,15))\n",
    "plt.show()"
   ]
  },
  {
   "cell_type": "code",
   "execution_count": 15,
   "id": "8bc8a24f",
   "metadata": {},
   "outputs": [],
   "source": [
    "y_train = X_train[[\"sequence_type\", \"gesture\"]]"
   ]
  },
  {
   "cell_type": "code",
   "execution_count": 16,
   "id": "8c1ebd80",
   "metadata": {},
   "outputs": [],
   "source": [
    "X_train = X_train.drop(columns=[\"row_id\", \"subject\", \"behavior\", \"orientation\", \"phase\", \"sequence_type\", \"gesture\"])"
   ]
  },
  {
   "cell_type": "code",
   "execution_count": 17,
   "id": "53f9fd71",
   "metadata": {},
   "outputs": [
    {
     "data": {
      "text/plain": [
       "57"
      ]
     },
     "execution_count": 17,
     "metadata": {},
     "output_type": "execute_result"
    }
   ],
   "source": [
    "len(X_train[X_train[\"sequence_id\"]==\"SEQ_000007\"])"
   ]
  },
  {
   "cell_type": "code",
   "execution_count": 18,
   "id": "38385bfb",
   "metadata": {},
   "outputs": [],
   "source": [
    "X_train_np = X_train.values\n",
    "y_train_np = y_train.values.reshape(-1, 2)"
   ]
  },
  {
   "cell_type": "code",
   "execution_count": 19,
   "id": "22751c33",
   "metadata": {},
   "outputs": [
    {
     "data": {
      "text/plain": [
       "((574945, 334), (574945, 2))"
      ]
     },
     "execution_count": 19,
     "metadata": {},
     "output_type": "execute_result"
    }
   ],
   "source": [
    "X_train_np.shape, y_train_np.shape"
   ]
  },
  {
   "cell_type": "code",
   "execution_count": 21,
   "id": "43c90c1e",
   "metadata": {},
   "outputs": [],
   "source": [
    "from torchvision import transforms"
   ]
  },
  {
   "cell_type": "code",
   "execution_count": 22,
   "id": "2412fa91",
   "metadata": {},
   "outputs": [],
   "source": [
    "acc_transform = transforms.Compose([\n",
    "    transforms.Lambda(lambda x: x.reshape(-1, 3)),\n",
    "    transforms.Lambda(lambda x: torch.from_numpy(x).float()),\n",
    "])"
   ]
  }
 ],
 "metadata": {
  "kernelspec": {
   "display_name": "Python 3 (ipykernel)",
   "language": "python",
   "name": "python3"
  },
  "language_info": {
   "codemirror_mode": {
    "name": "ipython",
    "version": 3
   },
   "file_extension": ".py",
   "mimetype": "text/x-python",
   "name": "python",
   "nbconvert_exporter": "python",
   "pygments_lexer": "ipython3",
   "version": "3.10.11"
  }
 },
 "nbformat": 4,
 "nbformat_minor": 5
}
